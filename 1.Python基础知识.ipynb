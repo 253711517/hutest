{
 "cells": [
  {
   "cell_type": "markdown",
   "metadata": {},
   "source": [
    "# <center>Python基础知识<center>\n",
    "    \n",
    "<center>by 华能信托 王宇韬 huaxz001<center>"
   ]
  },
  {
   "cell_type": "markdown",
   "metadata": {},
   "source": [
    "下面就开始进行Python基础知识的正式教学，下面的内容是我经过自己的学习提炼来进行的重要知识，一些不太重要的基础知识，我就通通不讲解了，让大家学的高效且轻松。在线文档：https://shimo.im/docs/MHOHPwdm6qExvItL"
   ]
  },
  {
   "cell_type": "markdown",
   "metadata": {},
   "source": [
    "## 0. 第一行Python代码"
   ]
  },
  {
   "cell_type": "code",
   "execution_count": 2,
   "metadata": {},
   "outputs": [
    {
     "name": "stdout",
     "output_type": "stream",
     "text": [
      "hello world\n"
     ]
    }
   ],
   "source": [
    "print('hello world')"
   ]
  },
  {
   "cell_type": "markdown",
   "metadata": {},
   "source": [
    "练习：将上面的world换成自己的名字，Ctrl+Enter 或者 Shift+Enter键运行上面代码"
   ]
  },
  {
   "cell_type": "code",
   "execution_count": 4,
   "metadata": {},
   "outputs": [
    {
     "name": "stdout",
     "output_type": "stream",
     "text": [
      "hello 你的名字\n"
     ]
    }
   ],
   "source": [
    "print('hello 你的名字')"
   ]
  },
  {
   "cell_type": "markdown",
   "metadata": {},
   "source": [
    "## 1. 变量、行、缩进与注释"
   ]
  },
  {
   "cell_type": "markdown",
   "metadata": {},
   "source": [
    "所谓变量，就相当于人的一个代号，我们很多都学过一次函数y = x +1， 其中的x就是变量（叫作自变量），y也是个变量（叫作因变量）。  \n",
    "### **1.1 变量**  \n",
    "所谓变量，就相当于人的一个代号，我们很多都学过一次函数y = x +1， 其中的x就是变量（叫作自变量），y也是个变量（叫作因变量）。\n"
   ]
  },
  {
   "cell_type": "markdown",
   "metadata": {},
   "source": [
    "![Image of Yaktocat](图片/1.png)"
   ]
  },
  {
   "cell_type": "markdown",
   "metadata": {},
   "source": [
    "**关于变量的命名**，大家尽量用字母a，b，c，a_1，b_1等，或者自己创建的字符，不要用系统自带的函数来命名，比如说不要用print来命名，写成print = 1，这样程序就会头疼了。  \n",
    "\n",
    "Python中定义一个变量只要利用 “=”即可，比如，我们可以输入如下程序。"
   ]
  },
  {
   "cell_type": "code",
   "execution_count": 11,
   "metadata": {},
   "outputs": [
    {
     "name": "stdout",
     "output_type": "stream",
     "text": [
      "10\n",
      "25\n"
     ]
    }
   ],
   "source": [
    "x = 10\n",
    "print(x) \n",
    "x = x + 15\n",
    "print(x) "
   ]
  },
  {
   "cell_type": "code",
   "execution_count": 10,
   "metadata": {},
   "outputs": [
    {
     "data": {
      "text/plain": [
       "'huaxiaozhi'"
      ]
     },
     "execution_count": 10,
     "metadata": {},
     "output_type": "execute_result"
    }
   ],
   "source": [
    "x = 'huaxiaozhi'\n",
    "x"
   ]
  },
  {
   "cell_type": "markdown",
   "metadata": {},
   "source": [
    "运行代码，即可看到运算得到的结果  \n",
    "这四行代码表示的意思分别是：  \n",
    "1. 将10赋值给x  \n",
    "2. 打印输出x  \n",
    "3. x加上15（这个也可以写成x += 15）  \n",
    "4. 将新的x打印输出  \n",
    "  \n",
    "知识点：print其实叫做print函数，就是用来将结果输出，我们以后会经常用到这个函数来输出结果。  \n",
    "**小技巧**：输入print，按一下**Tab**键会自动补全print后面的括号。"
   ]
  },
  {
   "cell_type": "markdown",
   "metadata": {},
   "source": [
    "### **1.2 行**  \n",
    "在python中，一般来说，很少用逗号或者分号，代码都是一行一行写的，所以每写完一句，在句尾，我们按一下**Enter**键，就可以进行换行。  \n",
    "\n",
    "### **1.3 缩进**  \n",
    "\n",
    "缩进是Python中非常重要的一个知识点，缩进的意思就是类似于Word的首行缩进，缩进的快捷键是**Tab**键，在if，for，while等语句中都会使用到缩进，我们先看下下面的代码："
   ]
  },
  {
   "cell_type": "code",
   "execution_count": 14,
   "metadata": {},
   "outputs": [
    {
     "name": "stdout",
     "output_type": "stream",
     "text": [
      "正数\n"
     ]
    }
   ],
   "source": [
    "# 这是注释\n",
    "x = 100 # 这也是个注释\n",
    "if x >0:\n",
    "    print('正数')\n",
    "else:\n",
    "    print('负数')"
   ]
  },
  {
   "cell_type": "markdown",
   "metadata": {},
   "source": [
    "这边第一行令x = 10，下面是一个之后会讲到的if语句，其实判断语句很简答，if表示“如果”，所以这边的白话意思就是："
   ]
  },
  {
   "cell_type": "code",
   "execution_count": null,
   "metadata": {},
   "outputs": [],
   "source": [
    "# 伪代码， 仅作为演示，不要运行\n",
    "x 等于 10\n",
    "如果 x 大于 0：\n",
    "    打印输出 '正数'\n",
    "否则：\n",
    "    打印输出 '负数'"
   ]
  },
  {
   "cell_type": "markdown",
   "metadata": {},
   "source": [
    "在第3行和第5行的print前面就必须要有**缩进**，否则python会报错。\n",
    "\n",
    "如果你要减少缩进，那么按住**Shift + Tab**键的话就可以撤销原来的缩进，你可以选择一片区域，按住**Tab**键进行缩进练习，再按住**Shift + Tab**键撤销原来的缩进。  \n",
    "\n",
    "### **1.4 注释**  \n",
    "\n",
    "什么叫注释呢，就是批注，大多作为一个提示作用。在程序中，我们经常要在代码旁边添加注释，防止别人或自己以后看不懂，或者不想代码执行，但又不想把它删掉，那么把这一块代码注释掉就是最好的选择了。\n",
    "\n"
   ]
  },
  {
   "cell_type": "markdown",
   "metadata": {},
   "source": [
    "![Image of Yaktocat](图片/2.png)"
   ]
  },
  {
   "cell_type": "markdown",
   "metadata": {},
   "source": [
    "在Python中，有两种主要的注释方法："
   ]
  },
  {
   "cell_type": "code",
   "execution_count": 1,
   "metadata": {},
   "outputs": [],
   "source": [
    "# 这之后是注释内容 "
   ]
  },
  {
   "cell_type": "code",
   "execution_count": null,
   "metadata": {},
   "outputs": [],
   "source": [
    "'''这里面是注释内容'''"
   ]
  },
  {
   "cell_type": "markdown",
   "metadata": {},
   "source": [
    "## 2. 数据类型：数字与字符串"
   ]
  },
  {
   "cell_type": "markdown",
   "metadata": {},
   "source": [
    "这一小节的话主要讲下Python中最常用的两种数据类型：数字 & 字符串。  \n",
    "\n",
    "有的老师会把这一块讲的挺复杂，其实在我这儿就很简单，大家要知道 **1 和 \"1\"是两种不同的数据类型即可**，前者是一个**数字**，可以进行加减乘除的操作，而后者则是个单纯的字符串，也就是常说的**文本内容**。字符串的一个特点就是在它的两旁有单引号或者双引号，如下图。 \n",
    "  \n",
    "![Image of Yaktocat](图片/3.png)  \n",
    "\n",
    "不同的数据类型是不能相互运算的，比如不可以写："
   ]
  },
  {
   "cell_type": "code",
   "execution_count": 17,
   "metadata": {},
   "outputs": [
    {
     "name": "stdout",
     "output_type": "stream",
     "text": [
      "5\n"
     ]
    }
   ],
   "source": [
    "a = 2 + 3\n",
    "print(a)"
   ]
  },
  {
   "cell_type": "code",
   "execution_count": 20,
   "metadata": {},
   "outputs": [
    {
     "name": "stdout",
     "output_type": "stream",
     "text": [
      "23\n"
     ]
    }
   ],
   "source": [
    "a = '2' + '3'\n",
    "print(a)"
   ]
  },
  {
   "cell_type": "code",
   "execution_count": 22,
   "metadata": {},
   "outputs": [
    {
     "data": {
      "text/plain": [
       "str"
      ]
     },
     "execution_count": 22,
     "metadata": {},
     "output_type": "execute_result"
    }
   ],
   "source": [
    "a = 'ss'\n",
    "type(a)"
   ]
  },
  {
   "cell_type": "markdown",
   "metadata": {},
   "source": [
    "这样的话就会报错：不同数据类型不能相互运算。  \n",
    "这边补充一个知识点，我们如何**获取一个变量的类型**呢，这边教大家一个函数：type函数，type函数可以显示变量的类型："
   ]
  },
  {
   "cell_type": "code",
   "execution_count": 24,
   "metadata": {},
   "outputs": [
    {
     "name": "stdout",
     "output_type": "stream",
     "text": [
      "<class 'int'>\n",
      "<class 'str'>\n"
     ]
    }
   ],
   "source": [
    "a = 1\n",
    "print(type(a))\n",
    "a = '1'\n",
    "print(type(a))"
   ]
  },
  {
   "cell_type": "markdown",
   "metadata": {},
   "source": [
    "这边就可以输出如下，第一个是int格式（整数格式），第二个是str格式（字符串格式）。 \n",
    "\n",
    "那么如何把字符串转成数字，或者**数字转换成字符串**呢？\n",
    "我们**重点关注把数字转换成字符串**，使用**str**函数即可，关于这些函数，大家先依葫芦画瓢即可，用用就熟练了。"
   ]
  },
  {
   "cell_type": "code",
   "execution_count": 25,
   "metadata": {},
   "outputs": [
    {
     "name": "stdout",
     "output_type": "stream",
     "text": [
      "11\n"
     ]
    }
   ],
   "source": [
    "a = 1\n",
    "b = str(a) #将数字转换成字符串，并赋值给变量b\n",
    "c = b + '1' \n",
    "print(c)"
   ]
  },
  {
   "cell_type": "markdown",
   "metadata": {},
   "source": [
    "下面讲一下如何把字符串转换成数字，这个我**用的非常少**，只讲一个我们之后课程可能会用到把字符串转成数字的函数：**int**函数。  \n",
    "通过int函数就可以把一个字符串转换成一个数字，从而可以进行数字的加减乘除等。"
   ]
  },
  {
   "cell_type": "code",
   "execution_count": 28,
   "metadata": {},
   "outputs": [
    {
     "name": "stdout",
     "output_type": "stream",
     "text": [
      "12346.5\n"
     ]
    }
   ],
   "source": [
    "a = '12345'\n",
    "b = int(a)\n",
    "c = b + 1\n",
    "print(c)"
   ]
  },
  {
   "cell_type": "markdown",
   "metadata": {},
   "source": [
    "## 3 Python常用数据结构"
   ]
  },
  {
   "cell_type": "markdown",
   "metadata": {},
   "source": [
    "### 3.1 列表  \n",
    "列表是在我的课里非常重要的一个概念，它就像个容器，可以将不同的数据放到里面进行调用，比如说一个班级里有5名学生，那么如何把这5名学生放到一起呢，那么直接放到Python程序里是不行的，如下图，程序也会出现奇怪的颜色告诉你不要这么做。  \n",
    "![Image of Yaktocat](图片/4.png)   \n",
    "\n",
    "这时需要有一个容器把他们放在一起，这个容器就叫做列表。"
   ]
  },
  {
   "cell_type": "code",
   "execution_count": 31,
   "metadata": {},
   "outputs": [
    {
     "name": "stdout",
     "output_type": "stream",
     "text": [
      "['丁一', '王二麻子', '张三', '李四', '赵五']\n"
     ]
    }
   ],
   "source": [
    "class1 = ['丁一', '王二麻子', '张三', '李四', '赵五']\n",
    "print(class1)"
   ]
  },
  {
   "cell_type": "markdown",
   "metadata": {},
   "source": [
    "注意上面除了汉字，其他的标点符号都要是在英文格式下的标点符号，这里的[]，千万要是英文格式下的中括号。其中列表的格式为：  \n",
    "![Image of Yaktocat](图片/5.png)   \n"
   ]
  },
  {
   "cell_type": "code",
   "execution_count": null,
   "metadata": {},
   "outputs": [],
   "source": [
    "列表名 = [元素1，元素2，元素3，……]"
   ]
  },
  {
   "cell_type": "markdown",
   "metadata": {},
   "source": [
    "列表里的元素可以是字符串，也可以是数字，甚至可以是另外一个列表，比如如下图,它里面就含有三种元素，数字1，字符串‘123’，和一个字列表[1, 2, 3]："
   ]
  },
  {
   "cell_type": "code",
   "execution_count": 32,
   "metadata": {},
   "outputs": [
    {
     "data": {
      "text/plain": [
       "[1, '123', [1, 2, 3]]"
      ]
     },
     "execution_count": 32,
     "metadata": {},
     "output_type": "execute_result"
    }
   ],
   "source": [
    "list1 = [1, '123', [1, 2, 3]]\n",
    "list1"
   ]
  },
  {
   "cell_type": "markdown",
   "metadata": {},
   "source": [
    "这边再顺便提一句**变量命名注意点**，这边我命名成list1而不是list，是一个好的编程习惯，初学者经常会犯的一个错误就是把变量名称命名为他学到的函数名称，这个有的时候没事，有的时候就不行，所以变量命名的时候得稍微注意下，你可以随便命名，如果想用类似list这样的来命名，最好在后面加一个数字1。  \n",
    "**列表是之后进阶课程里用的最多的了**，举个例子：  \n",
    "\n",
    "在实际的舆情监控系统中，我们就经常利用列表，比如如下是我们要监控的房地产行业的几家企业，就是用列表将他们放在在一起，然后再进行接下来的操作。![Image of Yaktocat](图片/6.png)  \n",
    "\n",
    "其中 for 循环，可以遍历列表中的所有元素，我们用最开始的例子来做个演示："
   ]
  },
  {
   "cell_type": "code",
   "execution_count": 30,
   "metadata": {},
   "outputs": [
    {
     "name": "stdout",
     "output_type": "stream",
     "text": [
      "丁一\n",
      "王二麻子\n",
      "张三\n",
      "李四\n",
      "赵五\n"
     ]
    }
   ],
   "source": [
    "class1 = ['丁一', '王二麻子', '张三', '李四', '赵五']\n",
    "for i in class1:\n",
    "    print(i)"
   ]
  },
  {
   "cell_type": "markdown",
   "metadata": {},
   "source": [
    "\n",
    "for i in class1 的用大白话来说就是："
   ]
  },
  {
   "cell_type": "code",
   "execution_count": null,
   "metadata": {},
   "outputs": [],
   "source": [
    "列表class1 = ['丁一', '王二麻子', '张三', '李四', '赵五']\n",
    "对于class1中的所有元素i:\n",
    "    我们都把它打印输出出来"
   ]
  },
  {
   "cell_type": "markdown",
   "metadata": {},
   "source": [
    "关于列表，我再介绍几个以后会经常用的知识点：  \n",
    "### （1）统计列表的元素个数的函数：**len()**函数  \n",
    "有的时候我们需要统计列表里一共有多少元素，那么使用的函数为len函数，len函数：一般为**len(列表名)**来获取列表里有多少元素，我们一般也叫做获取列表的长度："
   ]
  },
  {
   "cell_type": "code",
   "execution_count": 37,
   "metadata": {},
   "outputs": [
    {
     "name": "stdout",
     "output_type": "stream",
     "text": [
      "6\n"
     ]
    }
   ],
   "source": [
    "class1 = ['丁一', '王二麻子', '张三', '李四', '赵五']\n",
    "a = len(class1) \n",
    "print(a)"
   ]
  },
  {
   "cell_type": "markdown",
   "metadata": {},
   "source": [
    "因为列表里面有5个元素，最后程序就会输出数字5。  \n",
    "同理，如果输入如下的程序："
   ]
  },
  {
   "cell_type": "code",
   "execution_count": 38,
   "metadata": {},
   "outputs": [
    {
     "name": "stdout",
     "output_type": "stream",
     "text": [
      "3\n"
     ]
    }
   ],
   "source": [
    "list1 = [1, '123', [1, 2, 3]]\n",
    "print(len(list1))"
   ]
  },
  {
   "cell_type": "markdown",
   "metadata": {},
   "source": [
    "这边可以不用把** len(list1)** 赋值给a，可以直接打印输出，那么之前说过里面一共有3个元素：数字1，字符串‘123’，和子列表[1, 2, 3]，所以最后输出的结果为3"
   ]
  },
  {
   "cell_type": "markdown",
   "metadata": {},
   "source": [
    "### （2）调取一个列表元素的方法  \n",
    "有的时候我们想要调取其中一个元素，那么列表调取也很简单，只要在列表之后加一个**[序号]，**比如class1[1]调取的就是“王二麻子”：\n"
   ]
  },
  {
   "cell_type": "code",
   "execution_count": 44,
   "metadata": {},
   "outputs": [
    {
     "name": "stdout",
     "output_type": "stream",
     "text": [
      "['王二麻子', '张三']\n"
     ]
    }
   ],
   "source": [
    "class1 = ['丁一', '王二麻子', '张三', '李四', '赵五']\n",
    "a = class1[0]\n",
    "print(a)"
   ]
  },
  {
   "cell_type": "code",
   "execution_count": 34,
   "metadata": {},
   "outputs": [
    {
     "data": {
      "text/plain": [
       "'丁一'"
      ]
     },
     "execution_count": 34,
     "metadata": {},
     "output_type": "execute_result"
    }
   ],
   "source": [
    "class1[0]"
   ]
  },
  {
   "cell_type": "markdown",
   "metadata": {},
   "source": [
    "这边有人可能会有疑惑，这边class1[1]调取的为什么不是“丁一”呢，**这边就涉及到Python中一个常用的知识点，****那就是序号的第一个序号都是0**，也就是说无论什么排序，第一个序号都是0，而不是1，**所以只有写class1[0]的时候，输出的才是“丁一”**。那么如果想输出“赵五”，写的代码就应该是print(class1[4])，当它的序号为4的时候，就表示要取第五个元素，大家可自己试一下。\n",
    "\n",
    "### （3）选取多个列表元素的方法：**列表切片**  \n",
    "\n",
    "如果有的时候，我们想选取列表中的几个元素，比如我想取之前class1里面的第2到第4位同学，也就是王二麻子，张三和赵四，那么该如何取呢？  \n",
    "\n",
    "列表切片的话，就是用来选取其中间的一些元素，一般格式为 列表名[序号1:序号2]，比如选取王二麻子，张三和赵四，就是class1[1:4]，1表示序号1，也就是第二个元素（序号0是第一个元素）,4表示序号4，也就是第五个元素，有人就会奇怪了，我只要取到第4个元素，为什么还要写4，也就是取到第5个元素呢。有个注意点，这个列表切片是**前闭后开**的，就是说它前面的那个元素是可以取到的，也就是序号1的元素：王二麻子是可以取到的；而序号4的元素：赵五则是取不到的。  "
   ]
  },
  {
   "cell_type": "code",
   "execution_count": 39,
   "metadata": {},
   "outputs": [
    {
     "name": "stdout",
     "output_type": "stream",
     "text": [
      "['王二麻子', '张三', '李四', '赵五']\n"
     ]
    }
   ],
   "source": [
    "class1 = ['丁一', '王二麻子', '张三', '李四', '赵五']\n",
    "a = class1[1:5]\n",
    "print(a)"
   ]
  },
  {
   "cell_type": "markdown",
   "metadata": {},
   "source": [
    "理解了**序号是从0开始，所以序号1表示第二个元素**，以及**列表切片是前闭后开之后**，我们可以理解最后的输出结果为：   \n",
    "['王二麻子', '张三', '李四']  \n",
    "\n",
    "### （4）列表增加元素的办法：**append()**方法\n",
    "\n",
    "这个在我们实战教程中，也是经常会用到的技巧，比如说之后要讲的舆情监控，我要对每一个爬取到的新闻舆情进行评分，但是我不知道其实爬了多少条新闻，那么我们就可以用append方法来把这些评分一个个加上去，而不需要知道一共有多少条新闻。"
   ]
  },
  {
   "cell_type": "code",
   "execution_count": 40,
   "metadata": {},
   "outputs": [
    {
     "name": "stdout",
     "output_type": "stream",
     "text": [
      "[80]\n"
     ]
    }
   ],
   "source": [
    "score = []\n",
    "score.append(80)\n",
    "print(score)"
   ]
  },
  {
   "cell_type": "markdown",
   "metadata": {},
   "source": [
    "此时我们把代码再增加几行，更加符合实战情况："
   ]
  },
  {
   "cell_type": "code",
   "execution_count": 49,
   "metadata": {},
   "outputs": [
    {
     "name": "stdout",
     "output_type": "stream",
     "text": [
      "[80, 90, 70]\n"
     ]
    }
   ],
   "source": [
    "score = []\n",
    "score.append(80)\n",
    "score.append(90)\n",
    "score.append(70)\n",
    "print(score)"
   ]
  },
  {
   "cell_type": "code",
   "execution_count": 50,
   "metadata": {},
   "outputs": [
    {
     "data": {
      "text/plain": [
       "[80, 90, 70, 'huaxiaozhi']"
      ]
     },
     "execution_count": 50,
     "metadata": {},
     "output_type": "execute_result"
    }
   ],
   "source": [
    "score.append('huaxiaozhi')\n",
    "score"
   ]
  },
  {
   "cell_type": "markdown",
   "metadata": {},
   "source": [
    "### （5）列表与字符串之间的转换方法  \n",
    "\n",
    "这个也是一个非常重要的知识点，虽然短时间内我们用不到这个知识点，但是它在我的Python进阶课里会有一个很重要的地位，它在文本筛选中有很大的作用，大家先了解下。  \n",
    "\n",
    "比如我要把**class1 = ['丁一', '王二麻子', '张三', '李四', '赵五']**，转换成**‘丁一，王二麻子，张三，李四，赵五’**这么一个字符串，可以用下面的方式：  \n",
    "\n",
    "**命令：\"连接符\".join(列表名)**  \n",
    "\n",
    "其中，引号中(单引号，双引号无所谓的)是字符之间的分割符，如“,”，“;”等等  \n",
    "\n",
    "所以想把class1里的内容都合并成一个字符串，那么就应该是**\",\".join(class1)**，这边你也可以把逗号换成空格，那么输出的就是  “丁一 王二麻子 张三 李四 赵五”。  "
   ]
  },
  {
   "cell_type": "code",
   "execution_count": 52,
   "metadata": {},
   "outputs": [
    {
     "name": "stdout",
     "output_type": "stream",
     "text": [
      "丁一 王二麻子 张三 李四 赵五\n"
     ]
    }
   ],
   "source": [
    "class1 = ['丁一', '王二麻子', '张三', '李四', '赵五']\n",
    "a = \" \".join(class1)\n",
    "print(a)"
   ]
  },
  {
   "cell_type": "code",
   "execution_count": 45,
   "metadata": {},
   "outputs": [
    {
     "data": {
      "text/plain": [
       "str"
      ]
     },
     "execution_count": 45,
     "metadata": {},
     "output_type": "execute_result"
    }
   ],
   "source": [
    "type(a)"
   ]
  },
  {
   "cell_type": "markdown",
   "metadata": {},
   "source": [
    "### 3.2 字典"
   ]
  },
  {
   "cell_type": "markdown",
   "metadata": {},
   "source": [
    "字典是另一种数据存储的方式，比如说class1里面，每个人考了数学考试，各有得分，想把他们的人名和分数一一匹配到一起，那么就需要用到字典来存储数据了。  \n",
    "字典的基本格式如下："
   ]
  },
  {
   "cell_type": "code",
   "execution_count": null,
   "metadata": {},
   "outputs": [],
   "source": [
    "字典名 = {键1：值1，键2：值2，键3：值3……}"
   ]
  },
  {
   "cell_type": "markdown",
   "metadata": {},
   "source": [
    "在字典中，每个元素都有两部分（区别于列表中一个元素只有一个部分），前一个部分，我们称之为**键**，后一个部分我们称其为**值，中间用冒号相连**。\n",
    "键的话就相当于一个钥匙，值的话就相当于一个锁，一个钥匙对应一个锁，同样，一个人对应一个成绩，那么对于class1里的每个人，我们可以这么写："
   ]
  },
  {
   "cell_type": "code",
   "execution_count": null,
   "metadata": {},
   "outputs": [],
   "source": [
    "class1 = {'丁一':85, '王二麻子':95, '张三':75, '李四':65, '赵五':55}"
   ]
  },
  {
   "cell_type": "markdown",
   "metadata": {},
   "source": [
    "注意，上面的大括号，冒号，逗号，引号都要在**英文格式**下输入。\n",
    "如果要**提取字典中的某一个元素的值**，可以通过如下格式实现:"
   ]
  },
  {
   "cell_type": "code",
   "execution_count": 53,
   "metadata": {},
   "outputs": [
    {
     "name": "stdout",
     "output_type": "stream",
     "text": [
      "95\n"
     ]
    }
   ],
   "source": [
    "# 字典名[\"键名\"]\n",
    "class1 = {'丁一':85, '王二麻子':95, '张三':75, '李四':65, '赵五':55}\n",
    "score = class1['王二麻子']\n",
    "print(score)"
   ]
  },
  {
   "cell_type": "markdown",
   "metadata": {},
   "source": [
    "这样就可以输出王二麻子的分数：95。  \n",
    "如果我们想把每个人的名字和分数都打印出来，可以写如下代码："
   ]
  },
  {
   "cell_type": "code",
   "execution_count": 59,
   "metadata": {},
   "outputs": [
    {
     "name": "stdout",
     "output_type": "stream",
     "text": [
      "丁一\n",
      "85\n",
      "王二麻子\n",
      "95\n",
      "张三\n",
      "75\n",
      "李四\n",
      "65\n",
      "赵五\n",
      "55\n"
     ]
    }
   ],
   "source": [
    "class1 = {'丁一':85, '王二麻子':95, '张三':75, '李四':65, '赵五':55}\n",
    "for i in class1:\n",
    "    print(i)\n",
    "    print(class1[i])"
   ]
  },
  {
   "cell_type": "markdown",
   "metadata": {},
   "source": [
    "这里的i其实是指的字典里的键，也就是‘丁一’，‘王二麻子’之类的内容，所以class1[i]输出的就是这些人分数。  \n",
    "如果想把名字和分数输出在一行里面，那么可以把之前的代码稍稍改一下：  "
   ]
  },
  {
   "cell_type": "code",
   "execution_count": 55,
   "metadata": {},
   "outputs": [
    {
     "name": "stdout",
     "output_type": "stream",
     "text": [
      "丁一:85\n",
      "王二麻子:95\n",
      "张三:75\n",
      "李四:65\n",
      "赵五:55\n"
     ]
    }
   ],
   "source": [
    "class1 = {'丁一':85, '王二麻子':95, '张三':75, '李四':65, '赵五':55}\n",
    "for i in class1:\n",
    "    print(i + ':' + str(class1[i]))"
   ]
  },
  {
   "cell_type": "markdown",
   "metadata": {},
   "source": [
    "这个有两个注意点，一个是这里的加号表示的是字符串拼接，不可以直接写  "
   ]
  },
  {
   "cell_type": "code",
   "execution_count": null,
   "metadata": {},
   "outputs": [],
   "source": [
    "print(i + ':' + class1[i])"
   ]
  },
  {
   "cell_type": "markdown",
   "metadata": {},
   "source": [
    "那么因为之前也讲过的数据类型问题，**‘丁一’是个字符串，而85是个数字**，他俩不能相加在一起，如果相加会报错："
   ]
  },
  {
   "cell_type": "markdown",
   "metadata": {},
   "source": [
    "![Image of Yaktocat](图片/7.png)"
   ]
  },
  {
   "cell_type": "markdown",
   "metadata": {},
   "source": [
    "所以第二个注意点是要利用之前刚刚讲过的str函数把数字85转换成字符串，写成"
   ]
  },
  {
   "cell_type": "code",
   "execution_count": 6,
   "metadata": {},
   "outputs": [
    {
     "name": "stdout",
     "output_type": "stream",
     "text": [
      "丁一:85\n"
     ]
    }
   ],
   "source": [
    "print(i + ':' + str(class1[i]))"
   ]
  },
  {
   "cell_type": "markdown",
   "metadata": {},
   "source": [
    "这样就可以输出结果。"
   ]
  },
  {
   "cell_type": "markdown",
   "metadata": {},
   "source": [
    "另外一种字典遍历的方法是通过字典的items()方法，代码如下："
   ]
  },
  {
   "cell_type": "code",
   "execution_count": 2,
   "metadata": {},
   "outputs": [
    {
     "name": "stdout",
     "output_type": "stream",
     "text": [
      "dict_items([('王二麻子', 95), ('李四', 65), ('赵五', 55), ('张三', 75), ('丁一', 85)])\n"
     ]
    }
   ],
   "source": [
    "class1 = {'丁一':85, '王二麻子':95, '张三':75, '李四':65, '赵五':55}\n",
    "a = class1.items()\n",
    "print(a)"
   ]
  },
  {
   "cell_type": "markdown",
   "metadata": {},
   "source": [
    "其输出结果如上所示，通过items()方法返回的是可遍历的(键, 值) 元组数组。"
   ]
  },
  {
   "cell_type": "markdown",
   "metadata": {},
   "source": [
    "除了列表和字典外，还有两种存储内容的方式：元组(Tuple)和集合(Set)。元组的定义和使用方法和列表非常类似，只是列表的符号是[]，而元组的符号是()，并且元组中的元素不可修改，代码如下所示：\n",
    "而集合和列表也比较类似，而集合主要用于消除重复的元素以及进行集合操作。相对于列表和字典，元组和集合用的很少，所以这边就不再详细介绍了。"
   ]
  },
  {
   "cell_type": "markdown",
   "metadata": {},
   "source": [
    "### 3.3 运算符介绍与实践"
   ]
  },
  {
   "cell_type": "markdown",
   "metadata": {},
   "source": [
    "运算符主要是将数据（数字和字符串）进行运算以及连接，常用的运算符如下："
   ]
  },
  {
   "cell_type": "markdown",
   "metadata": {},
   "source": [
    "| 运算符   | 含义   | \n",
    "|:----:|:----:|\n",
    "| +    | 数字相加或者字符串拼接   | \n",
    "| -   | 数字相减   | \n",
    "| *   | 数字相乘   | \n",
    "| /   | 数据相除   | \n",
    "| >   | 大于，如果写成>=表示成大于等于   | \n",
    "| <   | 小于，如果写成<=表示成小于等于   | \n",
    "| ==   | 比较两个对象是否相等   | \n",
    "| and   | 逻辑与   | \n",
    "| or   | 逻辑或   | \n",
    "| not   | 逻辑非   | "
   ]
  },
  {
   "cell_type": "markdown",
   "metadata": {},
   "source": [
    "#### (1) 算术运算符\n",
    "\n",
    "算术运算符主要用到的有：+ 、-、*、/。这里主要讲一下加号，因为它除了能进行数字的相加外，还能进行**字符串的拼接**，先举个简单的例子："
   ]
  },
  {
   "cell_type": "code",
   "execution_count": 47,
   "metadata": {},
   "outputs": [
    {
     "name": "stdout",
     "output_type": "stream",
     "text": [
      "hello world\n"
     ]
    }
   ],
   "source": [
    "a = 'hello'\n",
    "b = 'world'\n",
    "c = a + ' ' + b\n",
    "print(c)"
   ]
  },
  {
   "cell_type": "markdown",
   "metadata": {},
   "source": [
    "#### (2) 比较运算符"
   ]
  },
  {
   "cell_type": "markdown",
   "metadata": {},
   "source": [
    "比较运算符主要是 > , <, ==。其中用的最多的是 > , <。比如之后进阶课讲的舆情监控，进行文本分析后进行机器评分，利用比较运算符，可以筛选出我们想要的负面新闻，举个例子："
   ]
  },
  {
   "cell_type": "code",
   "execution_count": 62,
   "metadata": {},
   "outputs": [],
   "source": [
    "score = -10\n",
    "if score < 0:\n",
    "    print('该新闻是负面新闻，录入数据库')"
   ]
  },
  {
   "cell_type": "markdown",
   "metadata": {},
   "source": [
    "这边的score是我们已经算法算好的分数，如果它小于0，我们就把它录入数据库，这边简单的演示，我们就直接把它print出来，输出结果。"
   ]
  },
  {
   "cell_type": "markdown",
   "metadata": {},
   "source": [
    "而 == 是比较两个对象是否相等，它和=不一样，=号的作用是用来赋值，比如一开始讲过的 a = 1。而 == 则是比较两个内容（比如数字）是否相等，举个例子："
   ]
  },
  {
   "cell_type": "code",
   "execution_count": 65,
   "metadata": {},
   "outputs": [
    {
     "name": "stdout",
     "output_type": "stream",
     "text": [
      "a和b相等\n"
     ]
    }
   ],
   "source": [
    "a = 1\n",
    "b = 2\n",
    "if a == b: #注意这边是两个等号\n",
    "    print('a和b相等')\n",
    "else:\n",
    "    print('a和b不相等')"
   ]
  },
  {
   "cell_type": "markdown",
   "metadata": {},
   "source": [
    "!="
   ]
  },
  {
   "cell_type": "markdown",
   "metadata": {},
   "source": [
    "这边a和b不等，所以最后输出结果为：不相等"
   ]
  },
  {
   "cell_type": "markdown",
   "metadata": {},
   "source": [
    "#### (3) 逻辑运算符\n",
    "\n",
    "逻辑运算符主要有：not，and，or三种。\n",
    "\n",
    "其中用的最多的是and和or，我们还是拿**项目实战**来作为一个例子，比如我们要判断这个新闻它的分数是负数，并且它的年份是2018年，我们才把它录入数据库："
   ]
  },
  {
   "cell_type": "code",
   "execution_count": 67,
   "metadata": {},
   "outputs": [
    {
     "name": "stdout",
     "output_type": "stream",
     "text": [
      "不录入数据库\n"
     ]
    }
   ],
   "source": [
    "score = -10\n",
    "year = 2018\n",
    "if (score < 0) and (year == 2018): \n",
    "    print('录入数据库')\n",
    "else:\n",
    "    print('不录入数据库')"
   ]
  },
  {
   "cell_type": "markdown",
   "metadata": {},
   "source": [
    "这边有两个注意点，在and两个判断条件上，**最好加上括号**，虽然有的时候不加也没问题，但是这个是比较严谨的一个做法，而且更一目了然，而且和上面讲过的一样，year == 2018这一块，注意是两个等号。\n",
    "因为这个符合分数小于0且年份属于2018，所以最后的输出结果为：录入数据库"
   ]
  },
  {
   "cell_type": "markdown",
   "metadata": {},
   "source": [
    "这边我们可以修改分数改成正数或者修改年份，看看最后跑出来的结果。\n",
    "此外，如果我们把<b>and换成or</b>的话，那么<b>只要满足一个条件，就可以执行下面的代码</b>，大家也可以自己试一试。"
   ]
  },
  {
   "cell_type": "markdown",
   "metadata": {},
   "source": [
    "## 4. Python最重要的三大语句详解"
   ]
  },
  {
   "cell_type": "markdown",
   "metadata": {},
   "source": [
    "虽然标题说这三大语句是Python最重要的三大语句，其实可以说下面的三大语句是几乎所有编程语言很重要的几个语句，当你学到后来，你会发现很多时候，你写来写去就是if，for，while。因为这个涉及所有编程语言的一些底层逻辑：<b>判断 & 循环</b>。下面我们就来详细讲解一下，其实有的内容之前已经或多或少提到过了。"
   ]
  },
  {
   "cell_type": "markdown",
   "metadata": {},
   "source": [
    "### 4.1 If语句详解与实践"
   ]
  },
  {
   "cell_type": "markdown",
   "metadata": {},
   "source": [
    "之前已经用过很多次If函数了，这边我再做一个简单介绍和一些新内容的补充吧，If函数的底层逻辑就是用来**判断**，如果满足条件则执行下面的语句。\n",
    "\n",
    "基本的语法逻辑如下，**注意记得写冒号及代码前的缩进**："
   ]
  },
  {
   "cell_type": "code",
   "execution_count": null,
   "metadata": {},
   "outputs": [],
   "source": [
    "if 条件：\n",
    "    代码1\n",
    "else：\n",
    "    代码2"
   ]
  },
  {
   "cell_type": "markdown",
   "metadata": {},
   "source": [
    "练一练（注意中英文格式）"
   ]
  },
  {
   "cell_type": "code",
   "execution_count": 68,
   "metadata": {},
   "outputs": [
    {
     "name": "stdout",
     "output_type": "stream",
     "text": [
      "该数字不大于10\n"
     ]
    }
   ],
   "source": [
    "a = 10\n",
    "if a > 10:  # 注意缩进的注意点，else不要缩进，英文格式的冒号\n",
    "    print('该数字大于10')\n",
    "else:\n",
    "    print('该数字不大于10')"
   ]
  },
  {
   "cell_type": "markdown",
   "metadata": {},
   "source": [
    "其中两个注意点，之前也提过了，就是**缩进**与**英文格式**的标点符号，有的时候，你忘记缩进或者冒号是中文格式的时候，程序就会报错，不过Pycharm和Spyder都会在那一行提醒你这一行的写法有问题，所以倒也不用太担心。\n",
    "现在我们再来看看之前写过这个代码，是不是会感觉清晰很多呢。"
   ]
  },
  {
   "cell_type": "code",
   "execution_count": 69,
   "metadata": {},
   "outputs": [
    {
     "name": "stdout",
     "output_type": "stream",
     "text": [
      "不录入数据库\n"
     ]
    }
   ],
   "source": [
    "score = 100\n",
    "year = 2018\n",
    "if (score < 0) and (year == 2018):\n",
    "    print('录入数据库')\n",
    "else:\n",
    "    print('不录入数据库')"
   ]
  },
  {
   "cell_type": "markdown",
   "metadata": {},
   "source": [
    "我们下面再补充些内容，其实掌握上面的内容已经完全足够了，下面的只是作为一个知识点的补充。比如你考试考了80分，最简单的是："
   ]
  },
  {
   "cell_type": "code",
   "execution_count": 59,
   "metadata": {},
   "outputs": [
    {
     "name": "stdout",
     "output_type": "stream",
     "text": [
      "及格\n"
     ]
    }
   ],
   "source": [
    "score = 85\n",
    "if score >= 60:\n",
    "    print('及格')\n",
    "else:\n",
    "    print('不及格')"
   ]
  },
  {
   "cell_type": "markdown",
   "metadata": {},
   "source": [
    "我相信现在大家看这个代码已经完全没有问题了，输出肯定是‘及格’。那如果我除了想判断是否及格外，还想看它是否优秀（大于80分），则输出‘优秀’，该怎么弄呢。"
   ]
  },
  {
   "cell_type": "code",
   "execution_count": 70,
   "metadata": {},
   "outputs": [
    {
     "name": "stdout",
     "output_type": "stream",
     "text": [
      "不及格\n"
     ]
    }
   ],
   "source": [
    "score = 55\n",
    "if score >= 80:\n",
    "    print('优秀')\n",
    "elif (score >= 60) and (score < 80):\n",
    "    print('及格')\n",
    "else:\n",
    "    print('不及格')"
   ]
  },
  {
   "cell_type": "markdown",
   "metadata": {},
   "source": [
    "这边唯一的一个不同，就是中间加入了一个elif，这个其实就是elseif的缩写，用来提供多个结果使用的，不过这个做项目的时候用到相对少很多，大家简单了解下即可。"
   ]
  },
  {
   "cell_type": "markdown",
   "metadata": {},
   "source": [
    "### 4.2 For语句详解与实践"
   ]
  },
  {
   "cell_type": "markdown",
   "metadata": {},
   "source": [
    "For语句的底层逻辑是**循环**，While的底层逻辑也是循环，不过For用的更加普遍些。\n",
    "\n",
    "For语句的常见使用格式为，**注意记得写冒号及代码前的缩进**："
   ]
  },
  {
   "cell_type": "code",
   "execution_count": null,
   "metadata": {},
   "outputs": [],
   "source": [
    "for i in 区域:\n",
    "    代码"
   ]
  },
  {
   "cell_type": "markdown",
   "metadata": {},
   "source": [
    "先举个之前讲列表的时候讲过的例子："
   ]
  },
  {
   "cell_type": "code",
   "execution_count": null,
   "metadata": {},
   "outputs": [],
   "source": [
    "用大白话来说就是："
   ]
  },
  {
   "cell_type": "markdown",
   "metadata": {},
   "source": [
    "列表class1 = ['丁一', '王二麻子', '张三', '李四', '赵五']\n",
    "\n",
    "对于class1中的所有元素i:\n",
    "\n",
    "    我们都把它打印输出出来"
   ]
  },
  {
   "cell_type": "code",
   "execution_count": 71,
   "metadata": {},
   "outputs": [
    {
     "name": "stdout",
     "output_type": "stream",
     "text": [
      "丁一\n",
      "王二麻子\n",
      "张三\n",
      "李四\n",
      "赵五\n"
     ]
    }
   ],
   "source": [
    "class1 = ['丁一', '王二麻子', '张三', '李四', '赵五']\n",
    "for i in class1:\n",
    "    print(i)"
   ]
  },
  {
   "cell_type": "markdown",
   "metadata": {},
   "source": [
    "代码输出结果如上所示。"
   ]
  },
  {
   "cell_type": "markdown",
   "metadata": {},
   "source": [
    "这个i可以换成任何东西，比如你换成j，换成一个字符串，只要和下面的print()里面的内容匹配即可。\n",
    "比如我们可以写："
   ]
  },
  {
   "cell_type": "code",
   "execution_count": 63,
   "metadata": {},
   "outputs": [
    {
     "name": "stdout",
     "output_type": "stream",
     "text": [
      "丁一\n",
      "王二麻子\n",
      "张三\n",
      "李四\n",
      "赵五\n"
     ]
    }
   ],
   "source": [
    "class1 = ['丁一', '王二麻子', '张三', '李四', '赵五']\n",
    "for haha in class1:\n",
    "    print(haha)"
   ]
  },
  {
   "cell_type": "markdown",
   "metadata": {},
   "source": [
    "这样输出的结果其实是一样的。\n",
    "For语句还通常与**range()函数**合用，range函数的话其实就是一个类似于list的东西，只不过它可能更像list的长度，你想循环多少次，在range的括号里填写几就可以，比如我写for i in range(3),那么它就是循环3次："
   ]
  },
  {
   "cell_type": "code",
   "execution_count": 64,
   "metadata": {},
   "outputs": [
    {
     "name": "stdout",
     "output_type": "stream",
     "text": [
      "hahaha\n",
      "hahaha\n",
      "hahaha\n"
     ]
    }
   ],
   "source": [
    "for i in range(3):\n",
    "    print('hahaha')"
   ]
  },
  {
   "cell_type": "code",
   "execution_count": 65,
   "metadata": {},
   "outputs": [
    {
     "name": "stdout",
     "output_type": "stream",
     "text": [
      "0\n",
      "1\n",
      "2\n"
     ]
    }
   ],
   "source": [
    "for i in range(3):\n",
    "    print(i)"
   ]
  },
  {
   "cell_type": "markdown",
   "metadata": {},
   "source": [
    "这个它就会输出三行‘hahaha’。\n",
    "我担心大家可能会对这个for i in range(3)中的i还有疑惑，刚刚i不是代表列表里的每一个元素吗，这边这个i又是什么意思呢？这边我给大家做一个讨巧的总结："
   ]
  },
  {
   "cell_type": "markdown",
   "metadata": {},
   "source": [
    "（1）对于\"**for i in 区域**\"来说，如果说这个区域是一个**列表**，那么那个**i就表示这个列表里的每一个元素**；\n",
    "\n",
    "（2）对于\"**for i in 区域**\"来说，如果说这个区域是一个**range(n)**，那么那个**i就表示0到n -1这n个数字**，之前提到过，Python中序号都是从0开始的，所以这边也是从0开始，到n - 1结束。\n",
    "\n",
    "还有个非常重要的知识点：for i in range(5)的话，它的确会循环5次，但要注意，在Python中，**第一个元素的序号其实是0**，所以如果我们输入如下代码："
   ]
  },
  {
   "cell_type": "code",
   "execution_count": 22,
   "metadata": {},
   "outputs": [
    {
     "name": "stdout",
     "output_type": "stream",
     "text": [
      "0\n",
      "1\n",
      "2\n",
      "3\n",
      "4\n"
     ]
    }
   ],
   "source": [
    "for i in range(5):\n",
    "    print(i)"
   ]
  },
  {
   "cell_type": "markdown",
   "metadata": {},
   "source": [
    "那么输出的结果是从0开始的，也就是0到4。"
   ]
  },
  {
   "cell_type": "markdown",
   "metadata": {},
   "source": [
    "下面我就以舆情监控中的实战来给大家讲解下for语句在**爬虫实战中**的应用："
   ]
  },
  {
   "cell_type": "code",
   "execution_count": 73,
   "metadata": {},
   "outputs": [
    {
     "name": "stdout",
     "output_type": "stream",
     "text": [
      "标题1\n",
      "标题2\n",
      "标题3\n",
      "标题4\n",
      "标题5\n"
     ]
    }
   ],
   "source": [
    "title = ['标题1','标题2','标题3','标题4','标题5']\n",
    "for i in title: \n",
    "    print(i) "
   ]
  },
  {
   "cell_type": "code",
   "execution_count": 74,
   "metadata": {},
   "outputs": [
    {
     "data": {
      "text/plain": [
       "5"
      ]
     },
     "execution_count": 74,
     "metadata": {},
     "output_type": "execute_result"
    }
   ],
   "source": [
    "len(title)"
   ]
  },
  {
   "cell_type": "code",
   "execution_count": 75,
   "metadata": {},
   "outputs": [
    {
     "name": "stdout",
     "output_type": "stream",
     "text": [
      "0\n",
      "1\n",
      "2\n",
      "3\n",
      "4\n"
     ]
    }
   ],
   "source": [
    "for i in range(5):\n",
    "    print(i)"
   ]
  },
  {
   "cell_type": "code",
   "execution_count": 76,
   "metadata": {},
   "outputs": [
    {
     "data": {
      "text/plain": [
       "'标题1'"
      ]
     },
     "execution_count": 76,
     "metadata": {},
     "output_type": "execute_result"
    }
   ],
   "source": [
    "title[0]"
   ]
  },
  {
   "cell_type": "code",
   "execution_count": 74,
   "metadata": {},
   "outputs": [
    {
     "data": {
      "text/plain": [
       "5"
      ]
     },
     "execution_count": 74,
     "metadata": {},
     "output_type": "execute_result"
    }
   ],
   "source": [
    "len(title)"
   ]
  },
  {
   "cell_type": "code",
   "execution_count": 79,
   "metadata": {},
   "outputs": [
    {
     "name": "stdout",
     "output_type": "stream",
     "text": [
      "1.标题1\n",
      "2.标题2\n",
      "3.标题3\n",
      "4.标题4\n",
      "5.标题5\n"
     ]
    }
   ],
   "source": [
    "title = ['标题1','标题2','标题3','标题4','标题5']\n",
    "for i in range(len(title)): #len(title)表示一个有多少个新闻，这里是5\n",
    "    print(str(i+1) + '.' + title[i]) #这个其实把字符串进行一个拼接，注意str()函数"
   ]
  },
  {
   "cell_type": "code",
   "execution_count": 81,
   "metadata": {},
   "outputs": [
    {
     "name": "stdout",
     "output_type": "stream",
     "text": [
      "1.标题2\n",
      "2.标题3\n",
      "3.标题4\n",
      "4.标题5\n"
     ]
    },
    {
     "ename": "IndexError",
     "evalue": "list index out of range",
     "output_type": "error",
     "traceback": [
      "\u001b[1;31m---------------------------------------------------------------------------\u001b[0m",
      "\u001b[1;31mIndexError\u001b[0m                                Traceback (most recent call last)",
      "\u001b[1;32m~\\AppData\\Local\\Temp/ipykernel_31236/1336707185.py\u001b[0m in \u001b[0;36m<module>\u001b[1;34m\u001b[0m\n\u001b[0;32m      1\u001b[0m \u001b[0mtitle\u001b[0m \u001b[1;33m=\u001b[0m \u001b[1;33m[\u001b[0m\u001b[1;34m'标题1'\u001b[0m\u001b[1;33m,\u001b[0m\u001b[1;34m'标题2'\u001b[0m\u001b[1;33m,\u001b[0m\u001b[1;34m'标题3'\u001b[0m\u001b[1;33m,\u001b[0m\u001b[1;34m'标题4'\u001b[0m\u001b[1;33m,\u001b[0m\u001b[1;34m'标题5'\u001b[0m\u001b[1;33m]\u001b[0m\u001b[1;33m\u001b[0m\u001b[1;33m\u001b[0m\u001b[0m\n\u001b[0;32m      2\u001b[0m \u001b[1;32mfor\u001b[0m \u001b[0mi\u001b[0m \u001b[1;32min\u001b[0m \u001b[0mrange\u001b[0m\u001b[1;33m(\u001b[0m\u001b[0mlen\u001b[0m\u001b[1;33m(\u001b[0m\u001b[0mtitle\u001b[0m\u001b[1;33m)\u001b[0m\u001b[1;33m)\u001b[0m\u001b[1;33m:\u001b[0m \u001b[1;31m#len(title)表示一个有多少个新闻，这里是5\u001b[0m\u001b[1;33m\u001b[0m\u001b[1;33m\u001b[0m\u001b[0m\n\u001b[1;32m----> 3\u001b[1;33m     \u001b[0mprint\u001b[0m\u001b[1;33m(\u001b[0m\u001b[0mstr\u001b[0m\u001b[1;33m(\u001b[0m\u001b[0mi\u001b[0m\u001b[1;33m+\u001b[0m\u001b[1;36m1\u001b[0m\u001b[1;33m)\u001b[0m \u001b[1;33m+\u001b[0m \u001b[1;34m'.'\u001b[0m \u001b[1;33m+\u001b[0m \u001b[0mtitle\u001b[0m\u001b[1;33m[\u001b[0m\u001b[0mi\u001b[0m\u001b[1;33m+\u001b[0m\u001b[1;36m1\u001b[0m\u001b[1;33m]\u001b[0m\u001b[1;33m)\u001b[0m \u001b[1;31m#这个其实把字符串进行一个拼接，注意str()函数\u001b[0m\u001b[1;33m\u001b[0m\u001b[1;33m\u001b[0m\u001b[0m\n\u001b[0m",
      "\u001b[1;31mIndexError\u001b[0m: list index out of range"
     ]
    }
   ],
   "source": [
    "title = ['标题1','标题2','标题3','标题4','标题5']\n",
    "for i in range(len(title)): #len(title)表示一个有多少个新闻，这里是5\n",
    "    print(str(i+1) + '.' + title[i+1]) #这个其实把字符串进行一个拼接，注意str()函数"
   ]
  },
  {
   "cell_type": "code",
   "execution_count": 76,
   "metadata": {},
   "outputs": [
    {
     "name": "stdout",
     "output_type": "stream",
     "text": [
      "1.标题1\n",
      "2.标题2\n",
      "3.标题3\n",
      "4.标题4\n",
      "5.标题5\n",
      "6.huaxiaozhi\n"
     ]
    }
   ],
   "source": [
    "title = ['标题1','标题2','标题3','标题4','标题5', 'huaxiaozhi']\n",
    "for i in range(len(title)): #len(title)表示一个有多少个新闻，这里是6\n",
    "    print(str(i+1) + '.' + title[i]) #这个其实把字符串进行一个拼接，注意str()函数"
   ]
  },
  {
   "cell_type": "markdown",
   "metadata": {},
   "source": [
    "上面这几行代码已经很大程度就是你做**项目实战**用到的代码了。我先用大白话来解释下这几行代码在干嘛："
   ]
  },
  {
   "cell_type": "code",
   "execution_count": null,
   "metadata": {},
   "outputs": [],
   "source": [
    "爬到了一些新闻标题，放到了title这个列表里\n",
    "用len(title)来获取一共有多少条新闻，并利用for和range语句来进行循环：\n",
    "    打印输出新闻标题，并且在前面加上序号"
   ]
  },
  {
   "cell_type": "markdown",
   "metadata": {},
   "source": [
    "输出结果如下图所示：\n",
    "![图片](图片/8.png)"
   ]
  },
  {
   "cell_type": "markdown",
   "metadata": {},
   "source": [
    "**其中有几个小注意点：**"
   ]
  },
  {
   "cell_type": "markdown",
   "metadata": {},
   "source": [
    "（1）range(len(title))这边就相当于range(5),因为len(title)就等于5，所以for i in range(len(title))就是循环5次，**这里的i就表示数字0-4**。title[i]的话，表示列表中的第i+1个元素，所以title[0]的话就表示第1个元素，title[4]就表示第5个元素。\n",
    "\n",
    "（2）为什么要写str(i + 1)，因为我们要标序号，“标题1”是字符串形式的，而i是数字，我们讲过数字和字符串不能直接相加，所以要用str函数进行下转换。\n",
    "\n",
    "（3）至于为什么不是str(i),而是str(i + 1)。是因为之前讲列表的时候提到过，在编程中，**第一个序号都是0**，而我们希望看到序号从1开始，所以这边写的是i+1。"
   ]
  },
  {
   "cell_type": "markdown",
   "metadata": {},
   "source": [
    "### 4.3 While语句详解与实践"
   ]
  },
  {
   "cell_type": "markdown",
   "metadata": {},
   "source": [
    "While的底层逻辑也是循环，它和For的特点不一样，最大的区别是For知道循环次数，而While的话则不需要知道具体的循环次数。\n",
    "\n",
    "其使用格式为，**注意要写冒号以及代码前的缩进**："
   ]
  },
  {
   "cell_type": "code",
   "execution_count": null,
   "metadata": {},
   "outputs": [],
   "source": [
    "while 条件:\n",
    "    要执行的的代码"
   ]
  },
  {
   "cell_type": "markdown",
   "metadata": {},
   "source": [
    "举个例子给大家看下："
   ]
  },
  {
   "cell_type": "code",
   "execution_count": 83,
   "metadata": {},
   "outputs": [
    {
     "name": "stdout",
     "output_type": "stream",
     "text": [
      "1\n",
      "2\n"
     ]
    }
   ],
   "source": [
    "a = 1\n",
    "while a < 3:\n",
    "    print(a)\n",
    "    a = a + 1 #或者写成 a += 1 "
   ]
  },
  {
   "cell_type": "markdown",
   "metadata": {},
   "source": [
    "它白话的意思就是："
   ]
  },
  {
   "cell_type": "code",
   "execution_count": null,
   "metadata": {},
   "outputs": [],
   "source": [
    "首先将1赋值给a\n",
    "当 a 小于3的时候:\n",
    "    打印输出a\n",
    "    a 在原来的基础上加上1"
   ]
  },
  {
   "cell_type": "markdown",
   "metadata": {},
   "source": [
    "a一开始等于1，满足小于3的条件，会打印输出1，然后a加上1等于2，此时a仍然小于3，所以仍然会执行打印输出的命令，此时打印输出2，然后a在2的基础上加上1等于3，此时a已经不满足小于3的条件了，那么循环此时便终止了。最后输出如上所示。"
   ]
  },
  {
   "cell_type": "markdown",
   "metadata": {},
   "source": [
    "大家可以试着把数字3换成别的数试试看。\n",
    "其实我们之后大多情况下用到While的时候，就是让While来一直循环（如果用for i in range(n),无论n多大，那么早晚都有结束的时候），这个**在爬虫实战中**的具体应用是**：当每爬完一次，就自动进行下一次爬取，实现24小时不间断爬取。**那么While如何能实现一直循环呢？\n",
    "\n",
    "具体的方法其实很简单，那就用while True进行永久循环，其中True的中文意思是正确的意思，所以while True的意思就是一直正确，也就会反复不停的执行代码，其基本结构如下所示："
   ]
  },
  {
   "cell_type": "code",
   "execution_count": null,
   "metadata": {},
   "outputs": [],
   "source": [
    "while True:\n",
    "    代码块"
   ]
  },
  {
   "cell_type": "markdown",
   "metadata": {},
   "source": [
    "如下图所示，这个while True就是舆情监控系统实现24小时不间断爬取的秘诀，有个注意点，这个True得大写首字母：\n",
    "![图片](图片/9.png)\n",
    "\n",
    "大家如果想停止while True的不停的循环，可以在点击右上角![图片](图片/10.png)的红色终止按钮即可。\n",
    "\n",
    "大家可以将如下代码自己试一下，体验一下while语句的用法。"
   ]
  },
  {
   "cell_type": "code",
   "execution_count": null,
   "metadata": {},
   "outputs": [],
   "source": [
    "while True:\n",
    "    print('hahaha')"
   ]
  },
  {
   "cell_type": "markdown",
   "metadata": {},
   "source": [
    "## 5. 函数与模块\n",
    "说到函数，大家可能畏难情绪就上来了，也许可能就想到以前学的什么三角函数，指数函数各种看着很吓人的东西了，但其实在Python里提到的函数就跟你小学初中学的**一元一次**函数是一个难度级别的，基本上你能理解一元一次函数：y(x) = x + 1，你就能理解Python里的函数了。"
   ]
  },
  {
   "cell_type": "markdown",
   "metadata": {},
   "source": [
    "![图片](图片/11.png)\n",
    "\n",
    "### 5.1 函数的定义与调用\n",
    "\n",
    "函数的一个最主要的功能就是让你可以不用一个代码重复写很多遍，\n",
    "\n",
    "函数的格式如下，我们**用def来定义一个函数**，**注意记得写冒号及代码前的缩进**：\n"
   ]
  },
  {
   "cell_type": "code",
   "execution_count": null,
   "metadata": {},
   "outputs": [],
   "source": [
    "def 函数名(参数):\n",
    "    代码"
   ]
  },
  {
   "cell_type": "markdown",
   "metadata": {},
   "source": [
    "我们以刚刚说的一元一次函数y = x + 1来演示下Python函数的写法："
   ]
  },
  {
   "cell_type": "code",
   "execution_count": 2,
   "metadata": {},
   "outputs": [
    {
     "name": "stdout",
     "output_type": "stream",
     "text": [
      "2\n"
     ]
    }
   ],
   "source": [
    "def y(x):\n",
    "    print(x+1)\n",
    "y(1)"
   ]
  },
  {
   "cell_type": "markdown",
   "metadata": {},
   "source": [
    "这个表述的就是y(x) = x + 1，前两行**定义函数**，第三行**调用函数**。\n",
    "调用函数很简单，只要输入函数名(比如上列的函数名为y)即可，如果含有参数(比如上面函数中的x)，那么在函数名后面输入参数即可。上面代码第三行的y(1)就是表示y(1) = 1 + 1，并通过print将其打印输出出来，它将输出内容如上。"
   ]
  },
  {
   "cell_type": "markdown",
   "metadata": {},
   "source": [
    "其中第三行大家可以换成y(2)，y(3)都可以，这样输出的结果就会随之改变.\n",
    "比如："
   ]
  },
  {
   "cell_type": "code",
   "execution_count": 27,
   "metadata": {},
   "outputs": [
    {
     "name": "stdout",
     "output_type": "stream",
     "text": [
      "2\n",
      "3\n",
      "4\n"
     ]
    }
   ],
   "source": [
    "def y(x):\n",
    "    print(x+1)\n",
    "y(1)  #第一次调用函数\n",
    "y(2)  #第二次调用函数\n",
    "y(3)  #第三次调用函数"
   ]
  },
  {
   "cell_type": "markdown",
   "metadata": {},
   "source": [
    "那么输出的结果就会发生变化。"
   ]
  },
  {
   "cell_type": "markdown",
   "metadata": {},
   "source": [
    "如下图所示，其实我们以前高中数学都学过f(x)，这个f就是function（函数）的意思，它和我们上面学的编程中的函数本质上其实是一个东西，或者说Python中的函数**，**其灵感或者基石就是来自数学中的函数。\n",
    "![图片](图片/12.png)\n",
    "\n",
    "有时函数括号里面不要参数也可以，这个大家**简单了解**即可，代码如下。"
   ]
  },
  {
   "cell_type": "code",
   "execution_count": 3,
   "metadata": {},
   "outputs": [
    {
     "name": "stdout",
     "output_type": "stream",
     "text": [
      "2\n"
     ]
    }
   ],
   "source": [
    "def y(): \n",
    "    x = 1\n",
    "    print(x+1)\n",
    "y() #调用函数"
   ]
  },
  {
   "cell_type": "markdown",
   "metadata": {},
   "source": [
    "其中前三行定义了一个函数，第四行调用了这个函数，在这个函数里我们并没有输入参数，直接敲击y()就可以调用函数了，不过这样的话，就没有办法改变x的值，这个函数的输出结果只会是2。"
   ]
  },
  {
   "cell_type": "markdown",
   "metadata": {},
   "source": [
    "这种不输入参数的函数定义方法，一般用的比较少，大家了解即可。\n",
    "那么定义函数，在**实战中有什么应用**呢？比如说在**爬虫实战**中就大有用途，我给大家演示下，大家先大概看下："
   ]
  },
  {
   "cell_type": "code",
   "execution_count": 4,
   "metadata": {},
   "outputs": [
    {
     "name": "stdout",
     "output_type": "stream",
     "text": [
      "华能信托completed!\n",
      "阿里巴巴completed!\n",
      "百度集团completed!\n",
      "腾讯completed!\n",
      "京东completed!\n",
      "万科completed!\n",
      "华为集团completed!\n"
     ]
    }
   ],
   "source": [
    "def baidu(company):\n",
    "    #这里是具体爬虫代码，后续章节会详细讲\n",
    "    print(company + 'completed!')\n",
    "    \n",
    "companys = ['华能信托','阿里巴巴','百度集团','腾讯','京东','万科','华为集团']\n",
    "for i in companys:\n",
    "    baidu(i)"
   ]
  },
  {
   "cell_type": "markdown",
   "metadata": {},
   "source": [
    "上面这个代码就是爬虫实战的一个基本框架了，其中第2行的具体代码，会在下面的章节详细讲解。现在大家先关注这个函数，因为爬取的是百度新闻，所以这个函数取名baidu，参数则为company，该参数在具体爬虫代码里和第3行的print(company + 'completed!')都有应用。\n",
    "第5行是个需要获取新闻信息的公司列表，第6行for i in companys则是通过循环来对每个项目公司来进行信息获取。这边这个i你可以换成任何内容，没有影响的，比如你写成j或k都是可以的，因为它就是遍历列表，然后把列表元素输入到baidu(company)这个函数当中，也就是第7行的内容。\n",
    "\n",
    "第7行就是把各个公司作为参数来运行baidu(company)这个函数。这样就实现了对各个公司进行信息获取。如果没有函数的话，那么同样的代码就得重复写很多遍。"
   ]
  },
  {
   "cell_type": "markdown",
   "metadata": {},
   "source": [
    "### 5.2 函数参数、返回值与作用域"
   ]
  },
  {
   "cell_type": "markdown",
   "metadata": {},
   "source": [
    "**(1) 参数再研究**"
   ]
  },
  {
   "cell_type": "code",
   "execution_count": 6,
   "metadata": {},
   "outputs": [
    {
     "name": "stdout",
     "output_type": "stream",
     "text": [
      "华能信托completed!\n",
      "阿里巴巴completed!\n",
      "百度completed!\n",
      "腾讯completed!\n",
      "京东completed!\n",
      "万科completed!\n",
      "建设银行completed!\n"
     ]
    }
   ],
   "source": [
    "def baidu(company):\n",
    "    #这里是具体爬虫代码，第七章会讲\n",
    "    print(company + 'completed!')\n",
    "    \n",
    "companys = ['华能信托','阿里巴巴','百度','腾讯','京东','万科','建设银行']\n",
    "for i in companys:\n",
    "    baidu(i)"
   ]
  },
  {
   "cell_type": "markdown",
   "metadata": {},
   "source": [
    "我们再来把这几行代码研究下，初学者可能会有点疑惑，这个第一行的**参数**company是不是可以换成别的任何一个值，答案是可以的，这个company只是个**参数**，它就相当于y(x) = x + 1中的x，你换成可以用z来代替x，变成y(z) = z + 1,只是形式变了，对函数本身并没任何影响，只要x + 1中的x变成z即可。\n",
    "所以我们也可以这么写，把**company**换成**keyword**，这个**参数**只是个代号而已。"
   ]
  },
  {
   "cell_type": "code",
   "execution_count": null,
   "metadata": {},
   "outputs": [],
   "source": [
    "def baidu(keyword):\n",
    "    #这里是具体爬虫代码，第七章会讲\n",
    "    print(keyword + 'completed!')\n",
    "    \n",
    "companys = ['华能信托','阿里巴巴','百度','腾讯','京东','万科','建设银行']\n",
    "for i in companys:\n",
    "    baidu(i)"
   ]
  },
  {
   "cell_type": "markdown",
   "metadata": {},
   "source": [
    "而最后两行中的i相当于y(1) = 1 +1 中的1，这个是函数调用输入的值。其中你可以把i换成j，换成k什么的都可以，因为无论换成什么，它都是表示这个列表companys中的每一个公司名称。\n",
    "\n",
    "**(2) 返回值**\n",
    "\n",
    "函数返回值算是个相对高阶的知识点，初学者用的相对较少，大家可以先有个初步了解。我们把最开始的代码稍微修改下，把**print**改成**return**，别的内容不变。"
   ]
  },
  {
   "cell_type": "code",
   "execution_count": 7,
   "metadata": {},
   "outputs": [
    {
     "data": {
      "text/plain": [
       "2"
      ]
     },
     "execution_count": 7,
     "metadata": {},
     "output_type": "execute_result"
    }
   ],
   "source": [
    "def y(x):\n",
    "    return(x+1)\n",
    "y(1) "
   ]
  },
  {
   "cell_type": "markdown",
   "metadata": {},
   "source": [
    "我们再次运行下，发现什么东西都没有，这是怎么回事呢，因为return和print函数不同，不那么准确地说，return相当于**看不见的print**，它是把原来该print的值赋值给了y(x）这个函数，学术点的说法就是该函数的**返回值**为：x+1。那么我们再稍稍修改下，就可以把y(x)显现出来了。"
   ]
  },
  {
   "cell_type": "code",
   "execution_count": 8,
   "metadata": {},
   "outputs": [
    {
     "name": "stdout",
     "output_type": "stream",
     "text": [
      "2\n"
     ]
    }
   ],
   "source": [
    "def y(x):\n",
    "    return(x+1)\n",
    "a = y(1) \n",
    "print(a)"
   ]
  },
  {
   "cell_type": "markdown",
   "metadata": {},
   "source": [
    "上面提到其实**y(1)已经是一个有数值的东西了**，只是不会直观的让你看到，原来该print的y(1)现在就相当于在后台给y(1)一个数值，那么令它等于a,然后利用print就可以把它打印出来了。\n",
    "可以看到，return和print还是很像的，只不过有的时候我们**不希望把内容都print出来**（那样最后代码输出显示的内容会过多）而是只是在需要的时候去使用它即可。\n",
    "\n",
    "上面这4行代码就可以输出如上内容了。"
   ]
  },
  {
   "cell_type": "markdown",
   "metadata": {},
   "source": [
    "同样在下面这个代码里，我们把print改成return，return就是返回值的一个函数，这个不会把keyword + 'completed!'直接打印出来了，而是说把keyword + 'completed!'赋值给baidu这个函数了。"
   ]
  },
  {
   "cell_type": "code",
   "execution_count": 31,
   "metadata": {},
   "outputs": [
    {
     "name": "stdout",
     "output_type": "stream",
     "text": [
      "华能信托completed!\n"
     ]
    }
   ],
   "source": [
    "def baidu(keyword):\n",
    "    #这里是具体爬虫代码，第七章会讲\n",
    "    return(keyword + 'completed!')\n",
    "a = baidu('华能信托')\n",
    "print(a)"
   ]
  },
  {
   "cell_type": "markdown",
   "metadata": {},
   "source": [
    "这样输出的内容也同样还是如上。"
   ]
  },
  {
   "cell_type": "markdown",
   "metadata": {},
   "source": [
    "此外，return和print还有个不同的地方在于，**return不用括号也是完全没有关系的**，比如下面的代码是完全ok的，这个print是不可以的。"
   ]
  },
  {
   "cell_type": "code",
   "execution_count": 32,
   "metadata": {},
   "outputs": [
    {
     "name": "stdout",
     "output_type": "stream",
     "text": [
      "华能信托completed!\n"
     ]
    }
   ],
   "source": [
    "def baidu(keyword):\n",
    "    #这里是具体爬虫代码，第七章会讲\n",
    "    return keyword + 'completed!'  #这里把括号去掉了\n",
    "a = baidu('华能信托')\n",
    "print(a)"
   ]
  },
  {
   "cell_type": "markdown",
   "metadata": {},
   "source": [
    "去掉括号输出的内容也同样还是如此。"
   ]
  },
  {
   "cell_type": "markdown",
   "metadata": {},
   "source": [
    "可以看到return**并不需要括号**，当然你加上也没什么问题。\n",
    "有的同学可能还有些疑惑，这个return感觉好像和print也没什么区别呀，反而还比print多绕了几步。那是因为这个代码还比较简单，所以两者的差异不大，如果原来print的是一堆内容，那return的左右就体现出来了。\n",
    "\n",
    "当我们把一个公司相关的新闻标题，来源，评分都获取了之后，**把它打印出来实在是有点有点繁琐，**而你利用return则不用担心它把这些数据都打印出来了。而且你用return最大的好处是把函数得到的结果返回给了函数名，之后可以调用函数名就可以使用函数结果了，这个在高阶的应用里应用较多，这里了解即可。\n",
    "\n",
    "**(3) 变量作用域**\n",
    "\n",
    "这块内容其实不讲也没什么事，但就是怕有的初学者有疑问，在自己练习的时候不知道什么情况。简单提炼就是，**你在函数内使用的变量是和函数外的程序没有关系的**。\n",
    "\n",
    "举个栗子："
   ]
  },
  {
   "cell_type": "code",
   "execution_count": 9,
   "metadata": {},
   "outputs": [
    {
     "name": "stdout",
     "output_type": "stream",
     "text": [
      "4\n",
      "1\n"
     ]
    }
   ],
   "source": [
    "x = 1 \n",
    "def y(x):\n",
    "    x = x + 1\n",
    "    print(x)\n",
    "y(3) \n",
    "print(x)"
   ]
  },
  {
   "cell_type": "markdown",
   "metadata": {},
   "source": [
    "单纯看上面几行代码，大家看下最后会输出的内容。"
   ]
  },
  {
   "cell_type": "markdown",
   "metadata": {},
   "source": [
    "同样是print(x)，为什么打印出来的内容不一样呢？这是因为函数y(x)里面的x和外面的x没有关系了，像之前讲过的，你可以把y(x)换成y(z)，再把其他的x都换成z，那么这个函数其实是没有变化的："
   ]
  },
  {
   "cell_type": "code",
   "execution_count": null,
   "metadata": {},
   "outputs": [],
   "source": [
    "x = 1 \n",
    "def y(z):\n",
    "    z = z + 1\n",
    "    print(z)\n",
    "y(3) \n",
    "\n",
    "print(x)"
   ]
  },
  {
   "cell_type": "markdown",
   "metadata": {},
   "source": [
    "看上面的代码，大家应该会更加明白，这样输出的肯定就是4和1了，这个y（z）中的z或者说y（x）中的x只是在函数内部才有效，**它不会影响外部的变量，**函数的参数只是个代号，与外部的变量关系不大**。**这个大家不太用深究，因为我们一般各个函数都是相互独立的，不太会产生什么干扰。"
   ]
  },
  {
   "cell_type": "markdown",
   "metadata": {},
   "source": [
    "### 5.3 一些基本函数的介绍"
   ]
  },
  {
   "cell_type": "markdown",
   "metadata": {},
   "source": [
    "这边给大家介绍下Python中常用的一些函数，在之后的项目实战中用的也很多。"
   ]
  },
  {
   "cell_type": "markdown",
   "metadata": {},
   "source": [
    "**(1) print函数**\n",
    "\n",
    "这个大家应该都非常熟悉了，这个只是拎出来再强调下这个函数的重要性，它在我们之后的编程中会经常用到，它第一个作用是用来打印输出结果，比如我一开始爬取阿里巴巴在百度新闻上的舆情（如下图），我得把**最原始的爬取内容**打印输出出来，然后寻找规律，获取我想要的内容，那么print的作用就很大了。\n",
    "\n",
    "![图片](图片/13.png)\n",
    "\n",
    "第二个功能在我这边是用来发现错误以及纠正错误，比如我不知道程序到底是哪里出了问题了，那么就在我觉得有问题的地方打印输出一下，看它打印输出的结果是不是我想要的，如果不是的话，再做修改。\n",
    "\n",
    "**(2) str函数与int函数**\n",
    "\n",
    "这边在讲字符串的时候已经讲过str这个函数了，这个用的很多，因为我们有的时候经常要把字符串和数字拼接到一起，那么就需要用到str函数：\n",
    "\n",
    "举个例子：\n"
   ]
  },
  {
   "cell_type": "code",
   "execution_count": null,
   "metadata": {},
   "outputs": [],
   "source": [
    "score = 85\n",
    "print('A公司今日评分为' + str(score) + '分。')"
   ]
  },
  {
   "cell_type": "markdown",
   "metadata": {},
   "source": [
    "我们将爬取到的分数已经获取了，想把它打印输出出来，那么涉及字符串的拼接就需要用到str函数，他可以把数字85变成字符串'85'。\n",
    "int函数的话，其实用的不多，这边简单提下，比如下面这个score = '85'是一个字符串，按照下面这个写法就会报错，报错**显示为数据格式不匹配**："
   ]
  },
  {
   "cell_type": "code",
   "execution_count": null,
   "metadata": {},
   "outputs": [],
   "source": [
    "score = '85'\n",
    "if score > 80:\n",
    "    print('OK')"
   ]
  },
  {
   "cell_type": "markdown",
   "metadata": {},
   "source": [
    "如果我们想把它与80进行比大小，就得用int函数把它转换成数字"
   ]
  },
  {
   "cell_type": "code",
   "execution_count": null,
   "metadata": {},
   "outputs": [],
   "source": [
    "score = '85'\n",
    "score = int(score)\n",
    "if score > 80:\n",
    "    print('OK')"
   ]
  },
  {
   "cell_type": "markdown",
   "metadata": {},
   "source": [
    "这样就可以把字符串转换成数字，与数字进行比较了。"
   ]
  },
  {
   "cell_type": "markdown",
   "metadata": {},
   "source": [
    "**(3) len函数**\n",
    "\n",
    "这个len函数最主要的作用是**统计列表元素个数**，当我们不知道列表一共有多少元素的时候，它能帮我们做一个统计，这个在之后的舆情监控之后又很大的作用。\n",
    "\n",
    "举个例子，我爬取阿里巴巴，但不知道具体爬到了多少标题，那么用len就能获取标题个数，为之后的操作做准备："
   ]
  },
  {
   "cell_type": "code",
   "execution_count": null,
   "metadata": {},
   "outputs": [],
   "source": [
    "title = ['标题1','标题2','标题3','标题4','标题5']\n",
    "href = ['网址1','网址2','网址3','网址4','网址5']\n",
    "for i in range(len(title)): #len(title)表示一个有多少个新闻，这里是5\n",
    "    href[i] = 'www.baidu.com/' + href[i] #这个其实就相当于 a = a + 1\n",
    "    print(str(i+1) + '.' + title[i]) #这个其实把字符串进行一个拼接\n",
    "    print(href[i])"
   ]
  },
  {
   "cell_type": "markdown",
   "metadata": {},
   "source": [
    "还是拿我们之前**第三讲：For语句详解**讲过的一个例子来做示范，这个就是一个我们在舆情监控中经常用到的len函数。它主要针对我们不清楚有多少新闻个数的时候来进行应用，如果我们知道了一共就5条新闻，那么就不用写len(title)了，直接写for i in range(5)即可："
   ]
  },
  {
   "cell_type": "code",
   "execution_count": null,
   "metadata": {},
   "outputs": [],
   "source": [
    "for i in range(5)"
   ]
  },
  {
   "cell_type": "markdown",
   "metadata": {},
   "source": [
    "而实际爬虫过程中我们是不知道有多少新闻条数的，所以len函数的作用就发挥出来了，这边倒数第二行正好还讲到了刚刚讲过的str函数，大家也可以当做一个复习。\n",
    "顺便提一句，len函数还可以统计字符串的长度，如下："
   ]
  },
  {
   "cell_type": "code",
   "execution_count": 10,
   "metadata": {},
   "outputs": [
    {
     "name": "stdout",
     "output_type": "stream",
     "text": [
      "10\n"
     ]
    }
   ],
   "source": [
    "a = '123华小智abcd'\n",
    "print(len(a))"
   ]
  },
  {
   "cell_type": "markdown",
   "metadata": {},
   "source": [
    "最后输出结果为10，就是十个字符串。\n",
    "\n",
    "**(4) replace函数**\n",
    "\n",
    "这个replace函数主要的作用是**替换你想替换的内容**，具体的使用方法如下：\"**字符串.replace(替换之前的内容，替换之后的内容)**\"，比如舆情监控的时候我们爬到的一条新闻标题是"
   ]
  },
  {
   "cell_type": "code",
   "execution_count": 11,
   "metadata": {},
   "outputs": [
    {
     "name": "stdout",
     "output_type": "stream",
     "text": [
      "阿里巴巴电商脱贫成“教材” 累计培训逾万名县域干部\n"
     ]
    }
   ],
   "source": [
    "a ='<em>阿里巴巴</em>电商脱贫成“教材” 累计培训逾万名县域干部'\n",
    "a = a.replace('<em>','')\n",
    "a = a.replace('</em>','')\n",
    "print(a)"
   ]
  },
  {
   "cell_type": "markdown",
   "metadata": {},
   "source": [
    "这样我们就能把新闻标题里我们不希望要的&lt;em&gt;与&lt;/em&gt;给剔除掉，大家可以把这一块代码复制或敲到程序里运行看看，会得到如上结果。"
   ]
  },
  {
   "cell_type": "markdown",
   "metadata": {},
   "source": [
    "在之后讲解正则表达式的时候，我会介绍另外一个替换的方法，那个方法更灵活，这边先埋个伏笔。\n",
    "\n",
    "**(5) strip函数**\n",
    "\n",
    "strip函数主要的作用是**删除空白符****（包括'换行符\\n'和空字符串' ')**，具体的使用方法如下：\"**字符串.strip()**\"。\n",
    "\n",
    "比如舆情监控的时候我们爬到的一条新闻标题是：**'        华能信托2018年上半年行业综合排名位列第5     '**，在这个标题前面后面都有些我们不想要的空白字符串，有的时候甚至还有讨厌的换行符，那么处理办法如下："
   ]
  },
  {
   "cell_type": "code",
   "execution_count": 12,
   "metadata": {},
   "outputs": [
    {
     "name": "stdout",
     "output_type": "stream",
     "text": [
      "华能信托2018年上半年行业综合排名位列第5\n"
     ]
    }
   ],
   "source": [
    "a ='        华能信托2018年上半年行业综合排名位列第5        '\n",
    "a = a.strip()\n",
    "print(a)"
   ]
  },
  {
   "cell_type": "markdown",
   "metadata": {},
   "source": [
    "那么我们就可以获取到一条非常干净的新闻标题了。"
   ]
  },
  {
   "cell_type": "markdown",
   "metadata": {},
   "source": [
    "**(6) split函数**\n",
    "split函数主要的作用是根据你的想法来**分割字符串**，具体的使用方法如下：\"&#42;&#42;字符串.split('<b>**分割的方法**</b>')\"。同样用实战中碰到情况来举例，如果我爬取到的日期是这样的内容：'2018年12月12日 08:07'，我们是不想要最后的具体时分秒，我们只想要“2018年12月12日”。观察发现，‘2018年12月12日’和具体时分秒中间有个**空格**，那么我们就可以利用这个空格，把2018年12月12日和具体时分秒分割开来。这个**分割的方法**就是空格。"
   ]
  },
  {
   "cell_type": "code",
   "execution_count": 37,
   "metadata": {},
   "outputs": [
    {
     "name": "stdout",
     "output_type": "stream",
     "text": [
      "2018年12月12日\n"
     ]
    }
   ],
   "source": [
    "a = '2018年12月12日 08:07'\n",
    "a = a.split(' ')[0]\n",
    "print(a)"
   ]
  },
  {
   "cell_type": "markdown",
   "metadata": {},
   "source": [
    "大家自己试一下，会得到如上输出结果。"
   ]
  },
  {
   "cell_type": "markdown",
   "metadata": {},
   "source": [
    "这边有个小细节提醒下大家，这个split之后，不是分成几块了嘛，所以它的返回结果是一个列表，所以在第二行代码，如果我们想获取前半块内容，也是列表的第一个内容，就要输入序号0（在Python中序号0表示第一个元素），要写成a = a.split(' ')[0]。\n",
    "大家可以写这么几行代码来理解下我说的内容："
   ]
  },
  {
   "cell_type": "code",
   "execution_count": 38,
   "metadata": {},
   "outputs": [
    {
     "name": "stdout",
     "output_type": "stream",
     "text": [
      "['2018年12月12日', '08:07']\n"
     ]
    }
   ],
   "source": [
    "a = '2018年12月12日 08:07'\n",
    "a = a.split(' ')\n",
    "print(a)"
   ]
  },
  {
   "cell_type": "markdown",
   "metadata": {},
   "source": [
    "我们可以看到输出的内容如上。"
   ]
  },
  {
   "cell_type": "markdown",
   "metadata": {},
   "source": [
    "这样我们应该就更能理解split之后得到的其实是一个列表了，所以如果想获取列表的第一个元素，就要写list[0]来获取啦。\n",
    "\n",
    "**(7) 异常处理函数try except函数**\n",
    "\n",
    "这个异常处理函数也是一个比较有用的一个函数，也许你之前学习的过程中，经常程序会报错，然后程序就被迫中止了，那么利用异常处理函数的话，就可以**避免程序因为哪一步程序出了错而整个程序终止**，这在舆情监控的时候非常有用，因为它是24小时不间断运行的，如果哪里出了点小问题，比如爬取的某个网站突然崩溃了，但别的网站还ok，我们希望就不用管这个崩溃的网站，继续执行下面的代码即可。\n",
    "\n",
    "异常处理函数的具体使用方法如下："
   ]
  },
  {
   "cell_type": "code",
   "execution_count": null,
   "metadata": {},
   "outputs": [],
   "source": [
    "try:\n",
    "    主代码\n",
    "except:\n",
    "    如果主代码出错了，那么该执行的代码"
   ]
  },
  {
   "cell_type": "markdown",
   "metadata": {},
   "source": [
    "先举个简单的例子："
   ]
  },
  {
   "cell_type": "code",
   "execution_count": 17,
   "metadata": {},
   "outputs": [
    {
     "name": "stdout",
     "output_type": "stream",
     "text": [
      "主代码运行失败\n"
     ]
    }
   ],
   "source": [
    "try:\n",
    "    print(1 + 'a')\n",
    "except:\n",
    "    print('主代码运行失败')"
   ]
  },
  {
   "cell_type": "markdown",
   "metadata": {},
   "source": [
    "根据我们已经学过的知识，print(1 + 'a') 这行代码肯定是会报错的，因为数字和字符串是不可以直接相加的，那么在这里我们用try except之后，try这一块失败了，程序没法运行，那么它就会跳转到except那里执行 print('主代码运行失败')，可以看到最后输出的内容。"
   ]
  },
  {
   "cell_type": "markdown",
   "metadata": {},
   "source": [
    "**其实这个的逻辑有点像if else函数，try就相当于if，except就相当于else，两者的底层逻辑其实是一样的，都是一个不行，就执行另外一个**。\n",
    "那么这个在具体项目中的实践是怎么样的呢？"
   ]
  },
  {
   "cell_type": "code",
   "execution_count": null,
   "metadata": {},
   "outputs": [],
   "source": [
    "try:\n",
    "    #这里是百度新闻爬取的代码，之后第五第七章会讲\n",
    "    print('百度新闻爬取成功')\n",
    "except:\n",
    "    print('百度新闻爬取失败')"
   ]
  },
  {
   "cell_type": "markdown",
   "metadata": {},
   "source": [
    "如上面的代码，在第二行有具体的爬虫代码，如果它没出问题，那么就直接打印“百度新闻爬取成功”，如果它出问题了，那么就打印“百度新闻爬取失败”。\n",
    "比如说如果我再print（百度新闻爬取成功）前面故意加一个错误的内容来做演示："
   ]
  },
  {
   "cell_type": "code",
   "execution_count": 40,
   "metadata": {},
   "outputs": [
    {
     "name": "stdout",
     "output_type": "stream",
     "text": [
      "百度新闻爬取失败\n"
     ]
    }
   ],
   "source": [
    "try:\n",
    "    #这里是百度新闻爬取的代码，之后第五第七章会讲\n",
    "    print(1 + '1')\n",
    "    print('百度新闻爬取成功')\n",
    "except:\n",
    "    print('百度新闻爬取失败')"
   ]
  },
  {
   "cell_type": "markdown",
   "metadata": {},
   "source": [
    "因为1 + ‘1’是两个不同类型变量相加，是没法执行的，那么它就会输出except里的内容，输出：百度新闻爬取失败。\n",
    "这个当你爬取的网站多了之后就非常有用了，因为你不想因为百度新闻爬取失败，就耽误之后的新浪财经新闻的爬取，或者耽误微信推文的爬取。具体代码如下："
   ]
  },
  {
   "cell_type": "code",
   "execution_count": 18,
   "metadata": {},
   "outputs": [
    {
     "name": "stdout",
     "output_type": "stream",
     "text": [
      "百度新闻爬取失败\n",
      "新浪财经新闻爬取成功\n",
      "微信推文爬取成功\n"
     ]
    }
   ],
   "source": [
    "try:\n",
    "    #这里是百度新闻爬取的代码，之后第五第七章会讲\n",
    "    print(1 + 'a')\n",
    "    print('百度新闻爬取成功')\n",
    "except:\n",
    "    print('百度新闻爬取失败')\n",
    "\n",
    "try:\n",
    "    #这里是新浪财经新闻爬取的代码，之后爬虫进阶课会讲\n",
    "    print('新浪财经新闻爬取成功')\n",
    "except:\n",
    "    print('新浪财经新闻爬取失败')\n",
    "try:\n",
    "    #这里是微信推文爬取的代码，之后爬虫进阶课会讲\n",
    "    print('微信推文爬取成功')\n",
    "except:\n",
    "    print('微信推文爬取失败')"
   ]
  },
  {
   "cell_type": "markdown",
   "metadata": {},
   "source": [
    "可以看到，如上面的代码演示，每一个网站的爬取我都采用了try except函数来进行处理，这样无论是哪一个网站的爬取出现了问题(比如上面那个**百度就会出问题**，但是因为写了异常处理函数，所以会执行except里的内容，打印输出“百度新闻爬取失败”，而不会影响之后代码的执行)，都不会影响别的网站的爬取工作，这样在进行24小时不间断爬取的过程中，我们就不用担心出现程序因为出错而自己中断的问题啦。"
   ]
  },
  {
   "cell_type": "markdown",
   "metadata": {},
   "source": [
    "### 5.4 Python模块\n",
    "\n",
    "模块（也有人把它叫作库）是Python这些年发展如此迅猛的一个原因，因为很多优秀的IT工程师在研发出非常棒的代码之后，愿意把它共享给大家进行使用，而**储存这些非常棒的代码的地方**就叫做**模块**，或者叫做**库**，有的库是Python自带的，有的库则需要我们进行下载才可以使用。\n",
    "\n",
    "引用库的方法一般如下："
   ]
  },
  {
   "cell_type": "code",
   "execution_count": null,
   "metadata": {},
   "outputs": [],
   "source": [
    "import 库名 \n",
    "或者\n",
    "from 库名 import 库里的一个功能"
   ]
  },
  {
   "cell_type": "markdown",
   "metadata": {},
   "source": [
    "引用完库之后，我们就可以使用库里面的功能了。\n",
    "我们先用一个简单的例子来演示库的使用，如果我们想让Python来输出当前的时间，那么应用time库即可，这个是Python自带的，不需要我们安装。"
   ]
  },
  {
   "cell_type": "code",
   "execution_count": 19,
   "metadata": {},
   "outputs": [
    {
     "name": "stdout",
     "output_type": "stream",
     "text": [
      "2022/09/09\n"
     ]
    }
   ],
   "source": [
    "import time\n",
    "print(time.strftime(\"%Y/%m/%d\"))"
   ]
  },
  {
   "cell_type": "markdown",
   "metadata": {},
   "source": [
    "这个就可以输出当天的时间了。"
   ]
  },
  {
   "cell_type": "markdown",
   "metadata": {},
   "source": [
    "或者从datetime这个库里面，引用datetime功能。前一个datetime表示库名，后一个datetime大家可以理解成功能，然后是用功能datetime的now函数获取时间。"
   ]
  },
  {
   "cell_type": "code",
   "execution_count": 20,
   "metadata": {},
   "outputs": [
    {
     "name": "stdout",
     "output_type": "stream",
     "text": [
      "2022-09-09 20:56:50.477888\n"
     ]
    }
   ],
   "source": [
    "from datetime import datetime\n",
    "print(datetime.now())"
   ]
  },
  {
   "cell_type": "markdown",
   "metadata": {},
   "source": [
    "这个输出的日期格式不同。"
   ]
  },
  {
   "cell_type": "markdown",
   "metadata": {},
   "source": [
    "其实这个也完全可以这么写："
   ]
  },
  {
   "cell_type": "code",
   "execution_count": 21,
   "metadata": {},
   "outputs": [
    {
     "name": "stdout",
     "output_type": "stream",
     "text": [
      "2022-09-09 20:57:15.957379\n"
     ]
    }
   ],
   "source": [
    "import datetime\n",
    "print(datetime.datetime.now())"
   ]
  },
  {
   "cell_type": "markdown",
   "metadata": {},
   "source": [
    "这个效果和上面的代码是一样的，他也是调用datetime模块的datetime功能的now函数。这样大家就理解了，其实调用库只要学会import +库名就可以了，from 库名 import 功能只是为了之后调用的时候更简洁而已。\n",
    "在项目实战中，比如在数据挖掘领域，我们经常需要用到的一个库叫做**requests**，它是我们能够通过Python程序访问网站的基础，我们下面就带大家先来安装下这个库。\n",
    "\n",
    "## **！注意：这个requests库如果2020年后安装Anaconda的话，已经自带了，安装会显示Requirement already satisfied，所以这边主要讲解下库的常见安装办法**\n",
    "\n",
    "安装库有两个常用的办法：\n",
    "\n",
    "**1.Pycharm安装法**\n",
    "\n",
    "如果你使用的是Pycharm，直接在Pycharm中安装即可，具体安装步骤如下：\n",
    "\n",
    "第一步，点击File，选择settings。\n",
    "\n",
    "![图片](图片/14.png)\n",
    "\n",
    "第二步：选择Project，选择Project Interpreter，选择右边的绿色的加号![图片](图片/15.png)。\n",
    "\n",
    "第三步：搜索你所需要的库的名字，比如这边的requests库，搜索完成后点击左下角的Install Package![图片](图片/16.png)\n",
    "\n",
    "![图片](图片/17.png)\n",
    "\n",
    "**2.Pip安装法**\n",
    "\n",
    "另一种库的安装办法为pip安装法，格式为：**pip install 库名**，具体步骤如下：\n",
    "\n",
    "第一步：同时按住Win + R键，调出运行框，输入cmd，这个Win键就是键盘左下角的Windows图标键，一般在ctrl键和alt键之间。\n",
    "\n",
    "![图片](图片/18.png)\n",
    "\n",
    "第二步：在弹出的对话框里，输入** pip install requests**，按一下Enter回车键，等待安装结束即可。\n",
    "\n",
    "![图片](图片/19.png)\n",
    "\n",
    "如果出现下图画面则说明安装成功了：\n",
    "\n",
    "![图片](图片/20.png)\n",
    "\n",
    "两种方法都可以，Pycharm法安装比较直观，但有的时候在Pycharm里有的库你找不到，那就用Pip安装法也很方便。\n",
    "\n",
    "当我们把requests安装好了之后，让我们来**小小实战**一下吧，大家可以把这几行代码输入到程序中自己试试："
   ]
  },
  {
   "cell_type": "code",
   "execution_count": 23,
   "metadata": {},
   "outputs": [
    {
     "name": "stdout",
     "output_type": "stream",
     "text": [
      "<!DOCTYPE html>\r\n",
      "<!--STATUS OK--><html> <head><meta http-equiv=content-type content=text/html;charset=utf-8><meta http-equiv=X-UA-Compatible content=IE=Edge><meta content=always name=referrer><link rel=stylesheet type=text/css href=http://s1.bdstatic.com/r/www/cache/bdorz/baidu.min.css><title>ç¾åº¦ä¸ä¸ï¼ä½ å°±ç¥é</title></head> <body link=#0000cc> <div id=wrapper> <div id=head> <div class=head_wrapper> <div class=s_form> <div class=s_form_wrapper> <div id=lg> <img hidefocus=true src=//www.baidu.com/img/bd_logo1.png width=270 height=129> </div> <form id=form name=f action=//www.baidu.com/s class=fm> <input type=hidden name=bdorz_come value=1> <input type=hidden name=ie value=utf-8> <input type=hidden name=f value=8> <input type=hidden name=rsv_bp value=1> <input type=hidden name=rsv_idx value=1> <input type=hidden name=tn value=baidu><span class=\"bg s_ipt_wr\"><input id=kw name=wd class=s_ipt value maxlength=255 autocomplete=off autofocus></span><span class=\"bg s_btn_wr\"><input type=submit id=su value=ç¾åº¦ä¸ä¸ class=\"bg s_btn\"></span> </form> </div> </div> <div id=u1> <a href=http://news.baidu.com name=tj_trnews class=mnav>æ°é»</a> <a href=http://www.hao123.com name=tj_trhao123 class=mnav>hao123</a> <a href=http://map.baidu.com name=tj_trmap class=mnav>å°å¾</a> <a href=http://v.baidu.com name=tj_trvideo class=mnav>è§é¢</a> <a href=http://tieba.baidu.com name=tj_trtieba class=mnav>è´´å§</a> <noscript> <a href=http://www.baidu.com/bdorz/login.gif?login&amp;tpl=mn&amp;u=http%3A%2F%2Fwww.baidu.com%2f%3fbdorz_come%3d1 name=tj_login class=lb>ç»å½</a> </noscript> <script>document.write('<a href=\"http://www.baidu.com/bdorz/login.gif?login&tpl=mn&u='+ encodeURIComponent(window.location.href+ (window.location.search === \"\" ? \"?\" : \"&\")+ \"bdorz_come=1\")+ '\" name=\"tj_login\" class=\"lb\">ç»å½</a>');</script> <a href=//www.baidu.com/more/ name=tj_briicon class=bri style=\"display: block;\">æ´å¤äº§å</a> </div> </div> </div> <div id=ftCon> <div id=ftConw> <p id=lh> <a href=http://home.baidu.com>å",
      "³äºç¾åº¦</a> <a href=http://ir.baidu.com>About Baidu</a> </p> <p id=cp>&copy;2017&nbsp;Baidu&nbsp;<a href=http://www.baidu.com/duty/>ä½¿ç¨ç¾åº¦åå¿",
      "è¯»</a>&nbsp; <a href=http://jianyi.baidu.com/ class=cp-feedback>æè§åé¦</a>&nbsp;äº¬ICPè¯030173å·&nbsp; <img src=//www.baidu.com/img/gs.gif> </p> </div> </div> </div> </body> </html>\r\n",
      "\n"
     ]
    }
   ],
   "source": [
    "import requests\n",
    "url = 'https://www.baidu.com'\n",
    "res = requests.get(url).text\n",
    "print(res)"
   ]
  },
  {
   "cell_type": "markdown",
   "metadata": {},
   "source": [
    "用白话解释下上面几句代码的含义\n",
    "**第一步：**首先通过import requests库把requests导入进来；\n",
    "\n",
    "**第二步：**输入一个网址，这里我们用百度来做个示例，注意不要单纯的输入<a href=\"https://www.baidu.com\">www.baidu.com</a>，因为它完整的网址是<a href=\"https://www.baidu.com\">https://www.baidu.com</a>，下一章我会解释下这一块，这一步大家先了解下即可；\n",
    "\n",
    "**第三步：**通过requests的get功能来访问该网站，并通过.text来获取网页源代码的文本内容；\n",
    "\n",
    "**第四步：**把获取的网页源代码打印输出出来。\n",
    "\n",
    "结果如下：\n",
    "\n",
    "![图片](图片/21.png)\n",
    "\n",
    "这个是大家学习数据挖掘的第一步，大家看到这个爬取到的内容还是比较粗糙的，有很多值得改进的地方，比如里面的中文就出现了乱码现象，但这些都先不用着急，我之后都会一步步讲到。我们要看到的是，通过这**简单的4行代码**，我们就能获取网页上面的信息，而之后爬取百度新闻，新浪财经，微信推文其实都是一模一样的原理，所以大家要**有学数据挖掘不难的**信心。\n"
   ]
  },
  {
   "cell_type": "markdown",
   "metadata": {},
   "source": [
    "更多知识点，可以参考：https://shimo.im/docs/MHOHPwdm6qExvItL/ 《1.华小智系列 - Python基础（案例版）》"
   ]
  }
 ],
 "metadata": {
  "kernelspec": {
   "display_name": "Python 3 (ipykernel)",
   "language": "python",
   "name": "python3"
  },
  "language_info": {
   "codemirror_mode": {
    "name": "ipython",
    "version": 3
   },
   "file_extension": ".py",
   "mimetype": "text/x-python",
   "name": "python",
   "nbconvert_exporter": "python",
   "pygments_lexer": "ipython3",
   "version": "3.9.7"
  },
  "varInspector": {
   "cols": {
    "lenName": 16,
    "lenType": 16,
    "lenVar": 40
   },
   "kernels_config": {
    "python": {
     "delete_cmd_postfix": "",
     "delete_cmd_prefix": "del ",
     "library": "var_list.py",
     "varRefreshCmd": "print(var_dic_list())"
    },
    "r": {
     "delete_cmd_postfix": ") ",
     "delete_cmd_prefix": "rm(",
     "library": "var_list.r",
     "varRefreshCmd": "cat(var_dic_list()) "
    }
   },
   "types_to_exclude": [
    "module",
    "function",
    "builtin_function_or_method",
    "instance",
    "_Feature"
   ],
   "window_display": false
  }
 },
 "nbformat": 4,
 "nbformat_minor": 2
}
